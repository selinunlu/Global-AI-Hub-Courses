{
  "cells": [
    {
      "cell_type": "markdown",
      "metadata": {
        "id": "q7dhkh67Fy1s"
      },
      "source": [
        "# 4. Fonksiyonlar\n",
        "\n",
        "Fonksiyonlar çok önemli bir kavramdır ve tüm programlama dillerinde mevcutturlar. Fonksiyonlar, bir eylemi (kod bloğu) tanımlamamıza  izin verir. Şimdiye kadar, Python tarafından sağlanan print, input, len vb. Gibi bazı yerleşik işlevleri kullanıyorduk. Şimdi bir tane oluşturma zamanı."
      ]
    },
    {
      "cell_type": "code",
      "execution_count": null,
      "metadata": {
        "colab": {
          "base_uri": "https://localhost:8080/"
        },
        "id": "GU8IEfuOMjhP",
        "outputId": "b05bead9-5706-4a9c-a24b-a41c932ad3a8"
      },
      "outputs": [
        {
          "data": {
            "text/plain": [
              "10"
            ]
          },
          "execution_count": 7,
          "metadata": {},
          "output_type": "execute_result"
        }
      ],
      "source": [
        "string ={'omer':'cengiz', 'melis':{'Duygu':'Değirmenci'}, 'eyüp':'bilgi'}\n",
        "len(string['melis']['Duygu'])"
      ]
    },
    {
      "cell_type": "code",
      "execution_count": null,
      "metadata": {
        "id": "2ZOXnE2aFy1s",
        "scrolled": true
      },
      "outputs": [],
      "source": [
        "def blow_fire(): # Burası fonksiyonu tanımladığımız yer\n",
        "    print('fire 🔥 🔥 🔥')"
      ]
    },
    {
      "cell_type": "code",
      "execution_count": null,
      "metadata": {
        "colab": {
          "base_uri": "https://localhost:8080/"
        },
        "id": "mVau1rvMOTFO",
        "outputId": "476209d8-8a80-4462-f364-101d0d1a0a12"
      },
      "outputs": [
        {
          "data": {
            "text/plain": [
              "5"
            ]
          },
          "execution_count": 16,
          "metadata": {},
          "output_type": "execute_result"
        }
      ],
      "source": [
        "a = 5\n",
        "a"
      ]
    },
    {
      "cell_type": "code",
      "execution_count": null,
      "metadata": {
        "colab": {
          "base_uri": "https://localhost:8080/"
        },
        "id": "umLMZfZMObVi",
        "outputId": "139e75e3-0869-48a2-d6cb-8083f3065a6d"
      },
      "outputs": [
        {
          "data": {
            "text/plain": [
              "function"
            ]
          },
          "execution_count": 17,
          "metadata": {},
          "output_type": "execute_result"
        }
      ],
      "source": [
        "type(blow_fire)"
      ]
    },
    {
      "cell_type": "code",
      "execution_count": null,
      "metadata": {
        "colab": {
          "base_uri": "https://localhost:8080/"
        },
        "id": "bRSvzHanORFl",
        "outputId": "e842d26e-97b7-4fdf-8a36-119ca8fcc045"
      },
      "outputs": [
        {
          "name": "stdout",
          "output_type": "stream",
          "text": [
            "fire 🔥 🔥 🔥\n",
            "fire 🔥 🔥 🔥\n",
            "fire 🔥 🔥 🔥\n",
            "fire 🔥 🔥 🔥\n",
            "fire 🔥 🔥 🔥\n",
            "fire 🔥 🔥 🔥\n"
          ]
        }
      ],
      "source": [
        "blow_fire() # Burada fonksiyonu çağırmak için çağırıyoruz\n",
        "blow_fire() # İstediğimiz kadar çağırabiliriz\n",
        "blow_fire() \n",
        "blow_fire() \n",
        "blow_fire() \n",
        "blow_fire() "
      ]
    },
    {
      "cell_type": "code",
      "execution_count": null,
      "metadata": {
        "colab": {
          "base_uri": "https://localhost:8080/",
          "height": 184
        },
        "id": "brMqQNZJPDrJ",
        "outputId": "981543c7-fc0d-4d6a-c57a-783ee746bc12"
      },
      "outputs": [
        {
          "name": "stdout",
          "output_type": "stream",
          "text": [
            "fire 🔥 🔥 🔥\n"
          ]
        },
        {
          "ename": "TypeError",
          "evalue": "ignored",
          "output_type": "error",
          "traceback": [
            "\u001b[0;31m---------------------------------------------------------------------------\u001b[0m",
            "\u001b[0;31mTypeError\u001b[0m                                 Traceback (most recent call last)",
            "\u001b[0;32m<ipython-input-19-ef90e4ba76a8>\u001b[0m in \u001b[0;36m<module>\u001b[0;34m()\u001b[0m\n\u001b[0;32m----> 1\u001b[0;31m \u001b[0mblow_fire\u001b[0m\u001b[0;34m(\u001b[0m\u001b[0;34m)\u001b[0m\u001b[0;34m*\u001b[0m\u001b[0;36m30\u001b[0m\u001b[0;34m\u001b[0m\u001b[0;34m\u001b[0m\u001b[0m\n\u001b[0m",
            "\u001b[0;31mTypeError\u001b[0m: unsupported operand type(s) for *: 'NoneType' and 'int'"
          ]
        }
      ],
      "source": [
        "blow_fire()*30"
      ]
    },
    {
      "cell_type": "markdown",
      "metadata": {
        "id": "_tiM_9YmFy1t"
      },
      "source": [
        "## 4.1 Argümanlar ve Parametreler (Arguments and Parameters)\n",
        "\n",
        "Yukarıdaki işlev biraz havalıydı, ancak bazı sınırlamaları da var. Yalnızca aynı eylemi gerçekleştirebilir. Daha genişletilebilir hale getirelim ve ona bazı veriler aktararak istediği gibi eylemler gerçekleştirmesini sağlayalım"
      ]
    },
    {
      "cell_type": "code",
      "execution_count": null,
      "metadata": {
        "colab": {
          "base_uri": "https://localhost:8080/"
        },
        "id": "iv9yz3XKQEer",
        "outputId": "8405276f-825b-487c-d803-af004db66a7a"
      },
      "outputs": [
        {
          "name": "stdout",
          "output_type": "stream",
          "text": [
            "fire 🔥 🔥 🔥\n"
          ]
        }
      ],
      "source": [
        "print(f\"{'fire'} {'🔥'} {'🔥'} {'🔥'}\")"
      ]
    },
    {
      "cell_type": "code",
      "execution_count": null,
      "metadata": {
        "colab": {
          "base_uri": "https://localhost:8080/"
        },
        "id": "pNjPJ11DQdb0",
        "outputId": "ae6e39c5-08af-40c6-d46b-4e9c2d90c123"
      },
      "outputs": [
        {
          "name": "stdout",
          "output_type": "stream",
          "text": [
            "water 🔥 🔥 🔥\n"
          ]
        }
      ],
      "source": [
        "print(f\"{'water'} {'🔥'} {'🔥'} {'🔥'}\")"
      ]
    },
    {
      "cell_type": "code",
      "execution_count": null,
      "metadata": {
        "colab": {
          "base_uri": "https://localhost:8080/"
        },
        "id": "e7t4WvcqFy1t",
        "outputId": "003cf1ad-69a5-4ce0-bf6e-3a7282b23186"
      },
      "outputs": [
        {
          "name": "stdout",
          "output_type": "stream",
          "text": [
            "fire 🔥 🔥 🔥\n",
            "water 🌊 🌊 🌊\n"
          ]
        }
      ],
      "source": [
        "def blower(name, emoji): # parameterler\n",
        "    print(f'{name} {emoji} {emoji} {emoji}')\n",
        "\n",
        "blower('fire', '🔥') # argümanlar\n",
        "blower('water', '🌊')"
      ]
    },
    {
      "cell_type": "code",
      "execution_count": null,
      "metadata": {
        "id": "YkPFYpocRJlR"
      },
      "outputs": [],
      "source": [
        "def hosgeldiniz_mesaji(name):\n",
        "  print(\"Hoşgeldiniz!!!\")\n",
        "  print(f'Merhaba {name}, seni aramızda görmek ne güzel!!!')"
      ]
    },
    {
      "cell_type": "code",
      "execution_count": null,
      "metadata": {
        "colab": {
          "base_uri": "https://localhost:8080/"
        },
        "id": "YtPILxaCRWLE",
        "outputId": "25697a35-8939-4a39-e2be-1e336a52dc06"
      },
      "outputs": [
        {
          "name": "stdout",
          "output_type": "stream",
          "text": [
            "Hoşgeldiniz!!!\n",
            "Merhaba Ayşe, seni aramızda görmek ne güzel!!!\n"
          ]
        }
      ],
      "source": [
        "hosgeldiniz_mesaji('Ayşe')"
      ]
    },
    {
      "cell_type": "code",
      "execution_count": null,
      "metadata": {
        "colab": {
          "base_uri": "https://localhost:8080/"
        },
        "id": "gSXbZij7Rmgx",
        "outputId": "d1ddcabe-0941-4dc3-a118-dfe664229bfa"
      },
      "outputs": [
        {
          "name": "stdout",
          "output_type": "stream",
          "text": [
            "Hoşgeldiniz!!!\n",
            "Merhaba İbrahim, seni aramızda görmek ne güzel!!!\n"
          ]
        }
      ],
      "source": [
        "hosgeldiniz_mesaji('İbrahim')"
      ]
    },
    {
      "cell_type": "markdown",
      "metadata": {
        "id": "8hchECTmFy1t"
      },
      "source": [
        "## 4.2 return\n",
        "\n",
        "return, Python'da bir işlevden bir değer döndürmek için kullanılan bir anahtar sözcüktür. İşlevleri daha kullanışlı hale getirmek için, bir ifadeyi değerlendirmeye dayalı olarak bir değer döndürmesi gerekir. Herhangi bir return ifadesi belirtilmezse veya return ifadesinin ifadesi bir veri türü olarak değerlendirilmezse, işlev None döndürür. \n",
        "\n",
        "return ifadesi işlevi sonlandırır ve işlevden çıkar."
      ]
    },
    {
      "cell_type": "code",
      "execution_count": null,
      "metadata": {
        "colab": {
          "base_uri": "https://localhost:8080/"
        },
        "id": "5Sdk5QNFU8Fv",
        "outputId": "939ad3be-b63a-4d34-bb10-7f762b1ec71e"
      },
      "outputs": [
        {
          "name": "stdout",
          "output_type": "stream",
          "text": [
            "Turkish AI Hub\n"
          ]
        }
      ],
      "source": [
        "def multi():\n",
        "  return 'Turkish AI Hub'\n",
        "print(multi())"
      ]
    },
    {
      "cell_type": "code",
      "execution_count": null,
      "metadata": {
        "colab": {
          "base_uri": "https://localhost:8080/"
        },
        "id": "hZ1NJzM6Ve-b",
        "outputId": "94641350-9000-4d8c-c42a-d7d17d32e8b1"
      },
      "outputs": [
        {
          "name": "stdout",
          "output_type": "stream",
          "text": [
            "Turkish AI Hub\n",
            "None\n"
          ]
        }
      ],
      "source": [
        "def multi():\n",
        "  print('Turkish AI Hub')\n",
        "print(multi())"
      ]
    },
    {
      "cell_type": "code",
      "execution_count": null,
      "metadata": {
        "colab": {
          "base_uri": "https://localhost:8080/"
        },
        "id": "yqgevVejFy1t",
        "outputId": "e6d03f2d-0fc6-44d6-eb62-9487f56972bb"
      },
      "outputs": [
        {
          "name": "stdout",
          "output_type": "stream",
          "text": [
            "6\n"
          ]
        }
      ],
      "source": [
        "def multiplier(num1, num2):\n",
        "    return num1 * num2\n",
        "\n",
        "result = multiplier(2,3)\n",
        "print(result) # 6"
      ]
    },
    {
      "cell_type": "markdown",
      "metadata": {
        "id": "BzOFS4ZJFy1u"
      },
      "source": [
        "Return ifadesini kullanarak havalı bir şeyler yapma zamanı."
      ]
    },
    {
      "cell_type": "code",
      "execution_count": null,
      "metadata": {
        "id": "WMJNdqRZFy1u",
        "scrolled": true
      },
      "outputs": [],
      "source": [
        "def sum1(num1):\n",
        "    def child(num2):\n",
        "        return num1 + num2\n",
        "    return child"
      ]
    },
    {
      "cell_type": "code",
      "execution_count": null,
      "metadata": {
        "colab": {
          "base_uri": "https://localhost:8080/"
        },
        "id": "xgm7Qnz5Fy1u",
        "outputId": "32094e19-ef1b-47b9-bf92-3d0c792d8b10"
      },
      "outputs": [
        {
          "data": {
            "text/plain": [
              "<function __main__.sum1.<locals>.child>"
            ]
          },
          "execution_count": 47,
          "metadata": {},
          "output_type": "execute_result"
        }
      ],
      "source": [
        "add_10 = sum1(10)\n",
        "add_10"
      ]
    },
    {
      "cell_type": "code",
      "execution_count": null,
      "metadata": {
        "colab": {
          "base_uri": "https://localhost:8080/"
        },
        "id": "apd521hBFy1u",
        "outputId": "bbb50553-051f-429c-9236-babdc8f7db69"
      },
      "outputs": [
        {
          "name": "stdout",
          "output_type": "stream",
          "text": [
            "30\n",
            "60\n",
            "110\n"
          ]
        }
      ],
      "source": [
        "print(add_10(20)) # 30  (Closure!!!)\n",
        "print(add_10(50)) # 60\n",
        "print(add_10(100)) # 110"
      ]
    },
    {
      "cell_type": "markdown",
      "metadata": {
        "id": "qDFq1N_9Pr3R"
      },
      "source": [
        "### Ornekler"
      ]
    },
    {
      "cell_type": "markdown",
      "metadata": {
        "id": "pqogNsBfP_g1"
      },
      "source": [
        "Tek return olan bir fonksiyon ornegi"
      ]
    },
    {
      "cell_type": "code",
      "execution_count": null,
      "metadata": {
        "id": "NqTXF_8kPrsR"
      },
      "outputs": [],
      "source": [
        "def summ(a, b):\n",
        "  value = a + b\n",
        "  return value"
      ]
    },
    {
      "cell_type": "code",
      "execution_count": null,
      "metadata": {
        "colab": {
          "base_uri": "https://localhost:8080/"
        },
        "id": "_CAsffx0P1TI",
        "outputId": "bc176d38-4de8-458e-ce2b-01babe3c3a71"
      },
      "outputs": [
        {
          "name": "stdout",
          "output_type": "stream",
          "text": [
            "13.5\n"
          ]
        }
      ],
      "source": [
        "sonuc = summ(6.0,7.5)\n",
        "print(sonuc)"
      ]
    },
    {
      "cell_type": "markdown",
      "metadata": {
        "id": "qXT-QjaFQDFA"
      },
      "source": [
        "Fonksiyonlar birden fazla deger de dondurebilirler"
      ]
    },
    {
      "cell_type": "code",
      "execution_count": null,
      "metadata": {
        "id": "2k7Fj3wDQGS9"
      },
      "outputs": [],
      "source": [
        "def func(x,y):\n",
        "  summ = x + y\n",
        "  multip = x * y\n",
        "  return (summ, multip)"
      ]
    },
    {
      "cell_type": "code",
      "execution_count": null,
      "metadata": {
        "colab": {
          "base_uri": "https://localhost:8080/"
        },
        "id": "HMWmEGW2QJZq",
        "outputId": "f0b2205d-ccdf-4036-d127-4d8135184d6e"
      },
      "outputs": [
        {
          "name": "stdout",
          "output_type": "stream",
          "text": [
            "68 1035\n"
          ]
        }
      ],
      "source": [
        "toplam, carpim = func(23,45)\n",
        "\n",
        "print(toplam, carpim)"
      ]
    },
    {
      "cell_type": "code",
      "execution_count": null,
      "metadata": {
        "colab": {
          "base_uri": "https://localhost:8080/"
        },
        "id": "sJXA9T6nW6Gq",
        "outputId": "d6c629f9-3f58-4a2f-8ba6-80c0b04401c1"
      },
      "outputs": [
        {
          "data": {
            "text/plain": [
              "tuple"
            ]
          },
          "execution_count": 53,
          "metadata": {},
          "output_type": "execute_result"
        }
      ],
      "source": [
        "type(func(5, 4))"
      ]
    },
    {
      "cell_type": "markdown",
      "metadata": {
        "id": "U1Ifuv5lQRTj"
      },
      "source": [
        "Fonksiyonlar kosullu ifadeler veya donguler ile de birlestirilebilir"
      ]
    },
    {
      "cell_type": "code",
      "execution_count": null,
      "metadata": {
        "id": "1poo3uyCQUds"
      },
      "outputs": [],
      "source": [
        "def func(x):\n",
        "  if x > 0:\n",
        "    return (\"Positive\")\n",
        "\n",
        "  elif x < 0:\n",
        "    return (\"Negative\")\n",
        "    \n",
        "  else:\n",
        "    return (\"Zero\")"
      ]
    },
    {
      "cell_type": "code",
      "execution_count": null,
      "metadata": {
        "colab": {
          "base_uri": "https://localhost:8080/"
        },
        "id": "vcqhsM0bQXtc",
        "outputId": "0f596828-0cf3-474c-8ea0-23e88a8abf03"
      },
      "outputs": [
        {
          "name": "stdout",
          "output_type": "stream",
          "text": [
            "Negative\n",
            "Positive\n",
            "Positive\n",
            "Zero\n",
            "Negative\n",
            "Negative\n"
          ]
        }
      ],
      "source": [
        "for i in [-2, 5, 6, 0, -4, -7]:\n",
        "  print(func(i))\n"
      ]
    },
    {
      "cell_type": "markdown",
      "metadata": {
        "id": "BAEcEf-CQe3n"
      },
      "source": [
        "### Ornek Faktoriyel Hesaplama"
      ]
    },
    {
      "cell_type": "code",
      "execution_count": null,
      "metadata": {
        "id": "1M6-P8KFQiJZ"
      },
      "outputs": [],
      "source": [
        "#factorial calculation\n",
        "#0! = 1\n",
        "#1!= 1\n",
        "#2!= 2 * 1 =2\n",
        "#6! = 6 * 5* 4 *3 2 *1*  = 720\n",
        "\n",
        "def factorial(num):\n",
        "    \n",
        "    factorial = 1\n",
        "    if (num == 0 or num == 1):\n",
        "        print(\"Factorial: \", factorial)\n",
        "        \n",
        "    else:\n",
        "        while (num >= 1):\n",
        "            factorial = factorial * num\n",
        "            num -= 1 # num = num - 1\n",
        "            \n",
        "    print(\"Factorial: \", factorial)"
      ]
    },
    {
      "cell_type": "code",
      "execution_count": null,
      "metadata": {
        "colab": {
          "base_uri": "https://localhost:8080/"
        },
        "id": "hyzTQkqrQmZR",
        "outputId": "0422db73-9fea-4f93-828e-75a58d431c46"
      },
      "outputs": [
        {
          "name": "stdout",
          "output_type": "stream",
          "text": [
            "Factorial:  120\n"
          ]
        }
      ],
      "source": [
        "factorial(5)"
      ]
    },
    {
      "cell_type": "markdown",
      "metadata": {
        "id": "qyuq5dSOQsrR"
      },
      "source": [
        "Fonkisyonlarin icerisinde diger metodlar da kullanilabilir"
      ]
    },
    {
      "cell_type": "code",
      "execution_count": null,
      "metadata": {
        "id": "erNMKGGKQvwj"
      },
      "outputs": [],
      "source": [
        "def hello2(name, capLetter = False):\n",
        "\n",
        "    if capLetter:\n",
        "        print(\"Hello \" + name.upper())\n",
        "    \n",
        "    else:\n",
        "        print(\"Hello \"  + name)"
      ]
    },
    {
      "cell_type": "code",
      "execution_count": null,
      "metadata": {
        "colab": {
          "base_uri": "https://localhost:8080/"
        },
        "id": "XmpF-rGuQzOn",
        "outputId": "68c805be-92f9-4f5f-ad38-cd96657c2544"
      },
      "outputs": [
        {
          "name": "stdout",
          "output_type": "stream",
          "text": [
            "Hello asli\n"
          ]
        }
      ],
      "source": [
        "hello2(\"asli\")"
      ]
    },
    {
      "cell_type": "code",
      "execution_count": null,
      "metadata": {
        "colab": {
          "base_uri": "https://localhost:8080/"
        },
        "id": "6iONCcj3Q1Wb",
        "outputId": "9d39a27a-41a5-4e6f-dceb-fd5060b95ce4"
      },
      "outputs": [
        {
          "name": "stdout",
          "output_type": "stream",
          "text": [
            "Hello ASLI\n"
          ]
        }
      ],
      "source": [
        "hello2(\"Asli\", capLetter= True)"
      ]
    },
    {
      "cell_type": "markdown",
      "metadata": {
        "id": "sw36UHJtFy1u"
      },
      "source": [
        "## 4.3 Scope\n",
        "\n",
        "Basitçe anlatmak gerekirse **\"Hangi değişkenlere erişimim var?\"** Anlamına gelir. Bu, yorumlayıcının değişkenlerin kapsamını bulmak için kodu okurken sorduğu türden bir sorudur. Python'da değişkenlerin işlev kapsamı vardır, bu da bir işlev içinde tanımlanan değişkenlere işlevin dışından erişilemeyeceği anlamına gelir."
      ]
    },
    {
      "cell_type": "code",
      "execution_count": null,
      "metadata": {
        "id": "ZslCONDuFy1u",
        "scrolled": true
      },
      "outputs": [],
      "source": [
        "num = 1\n",
        "\n",
        "def confusing_function():\n",
        "    \n",
        "    num = 10\n",
        "    return num"
      ]
    },
    {
      "cell_type": "code",
      "execution_count": null,
      "metadata": {
        "colab": {
          "base_uri": "https://localhost:8080/"
        },
        "id": "x-QTA3lbFy1v",
        "outputId": "9ee43150-d294-4af8-adb5-ca52a1492185"
      },
      "outputs": [
        {
          "name": "stdout",
          "output_type": "stream",
          "text": [
            "1\n",
            "10\n"
          ]
        }
      ],
      "source": [
        "print(num) # 1 => Global Scope\n",
        "print(confusing_function()) # 10 => Local Scope"
      ]
    },
    {
      "cell_type": "markdown",
      "metadata": {
        "id": "CWf35HmwFy1v"
      },
      "source": [
        "**Python yorumlayıcısının izlediği kapsam kuralları şunlardır:**\n",
        "\n",
        "- Yerel ile başlayın. Değişken mevcut mu? Ardından değeri alın. Değilse devam edin\n",
        "- Değişken, ana işlevin yerel kapsamında tanımlanmış mı? Varsa değeri getir, yoksa devam et\n",
        "- Değişken genel kapsamda mevcut mu? Varsa değeri getir, yoksa devam et\n",
        "- Değişken yerleşik bir işlev mi? Değeri getir, yoksa çıkışı"
      ]
    },
    {
      "cell_type": "markdown",
      "metadata": {
        "id": "hqiueftBQ9Z_"
      },
      "source": [
        "### Lambda Fonksiyonlar"
      ]
    },
    {
      "cell_type": "code",
      "execution_count": null,
      "metadata": {
        "colab": {
          "base_uri": "https://localhost:8080/"
        },
        "id": "6TkphRWBQ-8M",
        "outputId": "1bee628a-7e2e-4b4e-8689-68720845dd86"
      },
      "outputs": [
        {
          "data": {
            "text/plain": [
              "3"
            ]
          },
          "execution_count": 66,
          "metadata": {},
          "output_type": "execute_result"
        }
      ],
      "source": [
        "#lambda function\n",
        "(lambda x: x + 1)(2)"
      ]
    },
    {
      "cell_type": "code",
      "execution_count": null,
      "metadata": {
        "colab": {
          "base_uri": "https://localhost:8080/",
          "height": 35
        },
        "id": "L2x_LKm5RAMy",
        "outputId": "41213ff3-f05d-46f0-b264-784ebf7a1c0e"
      },
      "outputs": [
        {
          "data": {
            "application/vnd.google.colaboratory.intrinsic+json": {
              "type": "string"
            },
            "text/plain": [
              "'Full name: Guido Van Rossum'"
            ]
          },
          "execution_count": 67,
          "metadata": {},
          "output_type": "execute_result"
        }
      ],
      "source": [
        "full_name = lambda first, last: f'Full name: {first.title()} {last.title()}'\n",
        "full_name('guido', 'van rossum')"
      ]
    },
    {
      "cell_type": "markdown",
      "metadata": {
        "id": "Hgq6Gt61Y-b4"
      },
      "source": [
        "## 4.4 Moduller"
      ]
    },
    {
      "cell_type": "code",
      "execution_count": null,
      "metadata": {
        "id": "ZwhwBEdLY_HR"
      },
      "outputs": [],
      "source": [
        "words = [\"artificial\",\"intelligence\",\"machine\",\"learning\",\"python\",\"programming\"]\n",
        "\n",
        "\n",
        "#from random import *\n",
        "import random as rnd\n",
        "#import tensorflow as tf\n",
        "\n",
        "def randomWord(words):\n",
        "    index = rnd.randint(0, len(words)-1)\n",
        "    return words[index]\n",
        "  "
      ]
    },
    {
      "cell_type": "code",
      "execution_count": null,
      "metadata": {
        "colab": {
          "base_uri": "https://localhost:8080/"
        },
        "id": "rg4WG8obZJAE",
        "outputId": "5051fc67-73a4-48a4-de11-ec12d4198e3a"
      },
      "outputs": [
        {
          "data": {
            "text/plain": [
              "6"
            ]
          },
          "execution_count": 70,
          "metadata": {},
          "output_type": "execute_result"
        }
      ],
      "source": [
        "len(words)"
      ]
    },
    {
      "cell_type": "code",
      "execution_count": null,
      "metadata": {
        "colab": {
          "base_uri": "https://localhost:8080/"
        },
        "id": "TSYLKfr3ZMEP",
        "outputId": "28d0a0fe-01ea-459b-9fad-172a99ef23f6"
      },
      "outputs": [
        {
          "name": "stdout",
          "output_type": "stream",
          "text": [
            "python\n"
          ]
        }
      ],
      "source": [
        "word = randomWord(words)\n",
        "print(word)"
      ]
    },
    {
      "cell_type": "markdown",
      "metadata": {
        "id": "3uarilP0ZOdQ"
      },
      "source": [
        "## 4.5 Metodlar"
      ]
    },
    {
      "cell_type": "markdown",
      "metadata": {
        "id": "4JzGqpMwZT6n"
      },
      "source": [
        "## Metodlar\n",
        "\n",
        "Fonksiyonlar isimleri ile çağrılır, parametre içine alınabilir ve isteğe bağlı olarak elde edilen değer fonksiyonun dışında kullanılabilir.\n",
        "Yöntemler ayrıca adlarıyla da adlandırılırlar, birçok yönden işlevlere benzerler, ancak çağrı, bir String veya liste gibi bir nesne aracılığıyla gerçekleştirilir.\n",
        "\n",
        "object.methodName(parameter)"
      ]
    },
    {
      "cell_type": "code",
      "execution_count": null,
      "metadata": {
        "colab": {
          "base_uri": "https://localhost:8080/"
        },
        "id": "sUnXe_GVZeBx",
        "outputId": "7e487fe9-8ea5-47b8-f892-e7652f4d9213"
      },
      "outputs": [
        {
          "name": "stdout",
          "output_type": "stream",
          "text": [
            "Please enter a name: omer\n",
            "OMER\n"
          ]
        }
      ],
      "source": [
        "s = input(\"Please enter a name: \")\n",
        "\n",
        "print(s.upper())"
      ]
    },
    {
      "cell_type": "code",
      "execution_count": null,
      "metadata": {
        "id": "R2LLjgoIcW_i"
      },
      "outputs": [],
      "source": [
        "s1 = [1,2,3,3,4,5,6]\n"
      ]
    },
    {
      "cell_type": "code",
      "execution_count": null,
      "metadata": {
        "id": "HCm4ybo3ccTh"
      },
      "outputs": [],
      "source": [
        "s1.append('Talha')"
      ]
    },
    {
      "cell_type": "code",
      "execution_count": null,
      "metadata": {
        "colab": {
          "base_uri": "https://localhost:8080/"
        },
        "id": "hDvtDj9ackCM",
        "outputId": "63b2eb0e-0fbe-487d-94e4-4e03036f0468"
      },
      "outputs": [
        {
          "data": {
            "text/plain": [
              "[1, 2, 3, 3, 4, 5, 6, 'Talha']"
            ]
          },
          "execution_count": 78,
          "metadata": {},
          "output_type": "execute_result"
        }
      ],
      "source": [
        "s1"
      ]
    },
    {
      "cell_type": "markdown",
      "metadata": {
        "id": "jQJEl4kcZn1n"
      },
      "source": [
        "# Exceptions \n",
        "\n",
        "* Programmer Errors \n",
        "* Program Bugs \n",
        "* Exceptions"
      ]
    },
    {
      "cell_type": "code",
      "execution_count": null,
      "metadata": {
        "colab": {
          "base_uri": "https://localhost:8080/",
          "height": 132
        },
        "id": "5d2l2YVgZoD4",
        "outputId": "1d3df87b-3523-4417-8273-68a9050a1bda"
      },
      "outputs": [
        {
          "ename": "SyntaxError",
          "evalue": "ignored",
          "output_type": "error",
          "traceback": [
            "\u001b[0;36m  File \u001b[0;32m\"<ipython-input-79-c7f6c99ffc2b>\"\u001b[0;36m, line \u001b[0;32m3\u001b[0m\n\u001b[0;31m    print \"Hello World!\"\u001b[0m\n\u001b[0m                       ^\u001b[0m\n\u001b[0;31mSyntaxError\u001b[0m\u001b[0;31m:\u001b[0m Missing parentheses in call to 'print'. Did you mean print(\"Hello World!\")?\n"
          ]
        }
      ],
      "source": [
        "# error example,SyntaxError.\n",
        "\n",
        "print \"Hello World!\"   "
      ]
    },
    {
      "cell_type": "code",
      "execution_count": null,
      "metadata": {
        "colab": {
          "base_uri": "https://localhost:8080/"
        },
        "id": "qnXbYAmjZreT",
        "outputId": "d85e2923-e266-4f34-af74-d63ba070a0d4"
      },
      "outputs": [
        {
          "name": "stdout",
          "output_type": "stream",
          "text": [
            "Enter the first integer: 3\n",
            "Enter the second integer: 5\n",
            "3 + 5 = 35\n"
          ]
        }
      ],
      "source": [
        "#bug example.\n",
        "\n",
        "num1 = input(\"Enter the first integer: \")\n",
        "num2 = input(\"Enter the second integer: \")\n",
        "\n",
        "print(num1, \"+\", num2, \"=\", num1 + num2)\n"
      ]
    },
    {
      "cell_type": "code",
      "execution_count": null,
      "metadata": {
        "colab": {
          "base_uri": "https://localhost:8080/"
        },
        "id": "L2m33VggZtWn",
        "outputId": "682fe350-64d3-4abc-b248-070651db97af"
      },
      "outputs": [
        {
          "name": "stdout",
          "output_type": "stream",
          "text": [
            "First integer: 2\n",
            "Second integer: 3\n",
            "2 / 3 = 0.6666666666666666\n"
          ]
        }
      ],
      "source": [
        "# ZeroDivisionError.\n",
        "\n",
        "\n",
        "num3 = int(input(\"First integer: \"))\n",
        "num4 = int(input(\"Second integer: \"))\n",
        "\n",
        "print(num3, \"/\",num4, \"=\", num3/num4)"
      ]
    },
    {
      "cell_type": "markdown",
      "metadata": {
        "id": "Stcay0lvZtQL"
      },
      "source": [
        "## Exception Handling\n",
        "\n",
        "\n",
        "try:\n",
        "\n",
        "\n",
        "> the situations where we can get exceptions\n",
        "\n",
        "except \"Exception Name\":\n",
        "\n",
        "\n",
        "> the operations in case of exceptions\n",
        "\n",
        "\n",
        "\n"
      ]
    },
    {
      "cell_type": "code",
      "execution_count": null,
      "metadata": {
        "colab": {
          "base_uri": "https://localhost:8080/",
          "height": 201
        },
        "id": "iWaawuLrZx74",
        "outputId": "bd997215-3fb8-438b-c105-b3325c26c59a"
      },
      "outputs": [
        {
          "ename": "ValueError",
          "evalue": "ignored",
          "output_type": "error",
          "traceback": [
            "\u001b[0;31m---------------------------------------------------------------------------\u001b[0m",
            "\u001b[0;31mValueError\u001b[0m                                Traceback (most recent call last)",
            "\u001b[0;32m<ipython-input-84-417db27f4b47>\u001b[0m in \u001b[0;36m<module>\u001b[0;34m()\u001b[0m\n\u001b[1;32m      1\u001b[0m \u001b[0mx\u001b[0m \u001b[0;34m=\u001b[0m \u001b[0;34m\"Alan Turing\"\u001b[0m\u001b[0;34m\u001b[0m\u001b[0;34m\u001b[0m\u001b[0m\n\u001b[1;32m      2\u001b[0m \u001b[0;34m\u001b[0m\u001b[0m\n\u001b[0;32m----> 3\u001b[0;31m \u001b[0mint\u001b[0m\u001b[0;34m(\u001b[0m\u001b[0mx\u001b[0m\u001b[0;34m)\u001b[0m\u001b[0;34m\u001b[0m\u001b[0;34m\u001b[0m\u001b[0m\n\u001b[0m",
            "\u001b[0;31mValueError\u001b[0m: invalid literal for int() with base 10: 'Alan Turing'"
          ]
        }
      ],
      "source": [
        "x = \"Alan Turing\"\n",
        "\n",
        "int(x)"
      ]
    },
    {
      "cell_type": "code",
      "execution_count": null,
      "metadata": {
        "colab": {
          "base_uri": "https://localhost:8080/"
        },
        "id": "MNQaIOpvZ2YM",
        "outputId": "f95ff4cc-eb75-4874-8563-5e83858b779b"
      },
      "outputs": [
        {
          "name": "stdout",
          "output_type": "stream",
          "text": [
            "Please enter an integer value!!!\n"
          ]
        }
      ],
      "source": [
        "try:\n",
        "    int(x)\n",
        "\n",
        "except ValueError:\n",
        "    print(\"Please enter an integer value!!!\")"
      ]
    },
    {
      "cell_type": "code",
      "execution_count": null,
      "metadata": {
        "colab": {
          "base_uri": "https://localhost:8080/"
        },
        "id": "MM66D0IHZ2PJ",
        "outputId": "cf92453d-9fea-498b-f9de-74597551239d"
      },
      "outputs": [
        {
          "output_type": "stream",
          "name": "stdout",
          "text": [
            "First integer: omerr\n",
            "Second integer: 4\n",
            "Please enter an integer value!!!\n"
          ]
        }
      ],
      "source": [
        "num3 = input(\"First integer: \")\n",
        "num4 = input(\"Second integer: \")\n",
        "\n",
        "try:\n",
        "    num3_int = int(num3)\n",
        "    num4_int = int(num4)\n",
        "\n",
        "    print(num3_int, \"/\",num4_int, \"=\", num3_int/num4_int)\n",
        "\n",
        "except ValueError:\n",
        "    print(\"Please enter an integer value!!!\")"
      ]
    },
    {
      "cell_type": "code",
      "execution_count": null,
      "metadata": {
        "colab": {
          "base_uri": "https://localhost:8080/"
        },
        "id": "f4BaeeS1Z6r1",
        "outputId": "09798f1f-8f07-40d4-be63-5106ca099f30"
      },
      "outputs": [
        {
          "name": "stdout",
          "output_type": "stream",
          "text": [
            "First number: (Press q for quit the program): 4\n",
            "Second number: alan\n",
            "Error!\n",
            "Please try again!\n",
            "First number: (Press q for quit the program): 4\n",
            "Second number: 0\n",
            "Error!\n",
            "Please try again!\n",
            "First number: (Press q for quit the program): q\n"
          ]
        }
      ],
      "source": [
        "#exception handling in loop structure\n",
        "\n",
        "\n",
        "while True:\n",
        "    num1 = input(\"First number: (Press q for quit the program): \")\n",
        "\n",
        "    if num1 == \"q\":\n",
        "        break\n",
        "\n",
        "    num2 = input(\"Second number: \")\n",
        "\n",
        "    try:\n",
        "        num1_int = int(num1)\n",
        "        num2_int = int(num2)\n",
        "        print(num1_int, \"/\", num2_int, \"=\", num1_int / num2_int)\n",
        "    except (ValueError, ZeroDivisionError):\n",
        "        print(\"Error!\")\n",
        "        print(\"Please try again!\")"
      ]
    },
    {
      "cell_type": "markdown",
      "metadata": {
        "id": "spdXO3A_AZQO"
      },
      "source": [
        "### Proje: Rehber Uygulaması\n",
        "Rehber isimli bir global değişken oluşturun. \n",
        "Kişi ekle, kişi sil, isim güncelle, numara güncelle, rastgele kişi seç, kişileri görüntüle ve main olmak üzere 7 tane fonksiyon tanımlayın.\n",
        "- Kişi ekle: parametre olarak isim ve numara alsın ve eğer verilen isim rehberde yoksa anahtar = isim, değer = numara şeklinde bir değer eklesin eklesin\n",
        "- Kişi sil: parametre olarak bir isim alsın ve exception handling ile eğer isim rehberde varsa silsin, yoksa kullanıcıya bulanamadığına dair bir çıktı yazdırsın\n",
        "- İsim güncelle: eksi ve yeni isim olmak üzere iki tane parametre alsın eğer eski isim rehberde yoksa veya yeni isim rehberde varsa hata versin, eğer bir problem yoksa rehberdeki eski ismi yeni isim ile güncellesin \n",
        "- Numara güncelle: isim ve yeni numara olmak üzere iki tane parametre alsın, verilen ismin rehberde olup olmadığını kontrol etsin ve eğer varsa numarasını yeni numara ile güncellesin\n",
        "- Rastgele kişi seç: random.choice fonksiyonunu kullanarak rehberden bir isim seçsin ve seçilen ismi ve ona ait olan numarayı **döndürsün**.\n",
        "- Kişileri görüntüle: rehberdeki bütün kişilerin isimlerini ve numaralarını alt alta ve başlarında indeksler olacak şekilde yazdırsın.\n",
        "- Main: içerisinde bir while döngüsü oluşturun ve her turda menüyü yazdırın   \n",
        "menu = '''\n",
        "   _________________________\n",
        "  | 1: Kişi ekle            |\n",
        "  | 2: Kişi Sil             |\n",
        "  | 3: İsim Güncelle        |\n",
        "  | 4: Numara Güncelle      |\n",
        "  | 5: Rastgele Kişi Seç    | \n",
        "  | 6: Kişileri Görüntüle   |\n",
        "  | q: Çıkış Yap            |\n",
        "   _________________________\n",
        "  '''\n",
        "  ardından kullanıcıdan girdi olarak bir işlem seçmesini isteyin. Seçilen işleme göre eğer gerekiyorsa fonksiyon parametrelerini de kullanıcıdan girdi olarak alın ve gerekli fonksiyonları çağırın. Kullanıcı eğer \"q\" değerini girerse döngüyü bitirin.\n",
        "\n",
        "Girdi alırken veya çıktı verirken kullanıcı ile olan etkileşimi istediğiniz gibi sağlayabilirsiniz ve menüye istediğiniz kadar farklı seçenekler ekleyebilirsiniz.\n",
        "\n",
        "En sonda main fonksiyonunu çağırarak uygulamayı başlatın ve test edin.\n",
        "\n"
      ]
    },
    {
      "cell_type": "code",
      "execution_count": null,
      "metadata": {
        "colab": {
          "background_save": true,
          "base_uri": "https://localhost:8080/"
        },
        "id": "Gs7hMdvtAB8c",
        "outputId": "7d37787f-93a8-4fc2-e3ba-94c0423a2d9f"
      },
      "outputs": [
        {
          "name": "stdout",
          "output_type": "stream",
          "text": [
            "\n",
            "   _________________________\n",
            "  | 1: Kişi ekle            |\n",
            "  | 2: Kişi Sil             |\n",
            "  | 3: İsim Güncelle        |\n",
            "  | 4: Numara Güncelle      |\n",
            "  | 5: Rastgele Kişi Seç    | \n",
            "  | 6: Kişileri Görüntüle   |\n",
            "  | q: Çıkış Yap            |\n",
            "   _________________________\n",
            "  \n",
            "**************************************************\n",
            "\n",
            "Yeni kişi eklendi\n",
            "\n",
            "   _________________________\n",
            "  | 1: Kişi ekle            |\n",
            "  | 2: Kişi Sil             |\n",
            "  | 3: İsim Güncelle        |\n",
            "  | 4: Numara Güncelle      |\n",
            "  | 5: Rastgele Kişi Seç    | \n",
            "  | 6: Kişileri Görüntüle   |\n",
            "  | q: Çıkış Yap            |\n",
            "   _________________________\n",
            "  \n"
          ]
        }
      ],
      "source": [
        "import random \n",
        "\n",
        "rehber = {}\n",
        "\n",
        "def kisi_ekle(isim, numara):\n",
        "  global rehber\n",
        "  if not isim in rehber.keys():\n",
        "    rehber[isim] = numara\n",
        "    print(\"Yeni kişi eklendi\")\n",
        "  else: print(\"Böyle Bir Kişi Var\")\n",
        "\n",
        "def kisi_sil(isim):\n",
        "  global rehber\n",
        "  try:\n",
        "    del rehber[isim]\n",
        "    print(\"Kişi Silindi\")\n",
        "  except KeyError:\n",
        "    print(\"Kişi Bulunamadı\")\n",
        "\n",
        "def isim_guncelle(isim, yeni_isim):\n",
        "  global rehber\n",
        "  if isim in rehber.keys():\n",
        "    if not yeni_isim in rehber.keys():\n",
        "      rehber[yeni_isim] = rehber[isim]\n",
        "      del rehber[isim]\n",
        "      print(\"İsim Güncellendi\")\n",
        "    else: print(\"Yeni İsimde Bir Kullanıcı Mevcut\")\n",
        "  else: print(\"Kişi Bulunamadı\")\n",
        "\n",
        "def numara_guncelle(isim,yeni_numara):\n",
        "  global rehber\n",
        "  if isim in rehber.keys():\n",
        "      rehber[isim] = yeni_numara\n",
        "      print(\"Numara Güncellendi\")\n",
        "  else: print(\"Kişi Bulunamadı\")\n",
        "\n",
        "def rastgele_kisi_sec():\n",
        "  isim = random.choice(list(rehber.keys()))\n",
        "  return isim, rehber[isim]\n",
        "\n",
        "def kisileri_goruntule():\n",
        "  global rehber\n",
        "  if not len(rehber) == 0:\n",
        "    print(\"Rehber:\\n\")\n",
        "    i = 1\n",
        "    for key,value in rehber.items():\n",
        "      print(f\"{i})\\n\\tİsim: {key}\\n\\tNumara: {value}\")\n",
        "      i += 1\n",
        "    return\n",
        "  print(\"Rehber Boş\")\n",
        "\n",
        "def main():\n",
        "  global rehber\n",
        "  menu = '''\n",
        "   _________________________\n",
        "  | 1: Kişi ekle            |\n",
        "  | 2: Kişi Sil             |\n",
        "  | 3: İsim Güncelle        |\n",
        "  | 4: Numara Güncelle      |\n",
        "  | 5: Rastgele Kişi Seç    | \n",
        "  | 6: Kişileri Görüntüle   |\n",
        "  | q: Çıkış Yap            |\n",
        "   _________________________\n",
        "  '''\n",
        "  print(menu)\n",
        "  while True:\n",
        "    secim = input(\"Lütfen seçim yapınız: \")\n",
        "    print(\"*\"*50+\"\\n\")\n",
        "    if secim == \"1\":\n",
        "      isim = input(\"Yeni kişi ismi giriniz: \")\n",
        "      numara = input(\"Numarayı giriniz: \")\n",
        "      kisi_ekle(isim,numara)\n",
        "\n",
        "    elif secim == \"2\":\n",
        "      isim = input(\"Silmek istediğiniz kişinin ismini giriniz: \")\n",
        "      kisi_sil(isim)\n",
        "\n",
        "    elif secim == \"3\":\n",
        "      isim = input(\"Değiştirmek istediğiniz ismi giriniz: \")\n",
        "      yeni_isim = input(\"Yeni ismi giriniz: \")\n",
        "      isim_guncelle(isim,yeni_isim)\n",
        "\n",
        "    elif secim == \"4\":\n",
        "      isim = input(\"Numarasını değiştirmek istediğiniz kişinin ismini giriniz: \")\n",
        "      yeni_numara = input(\"Yeni numarayı giriniz: \")\n",
        "      numara_guncelle(isim,yeni_numara)\n",
        "    \n",
        "    elif secim == \"5\":\n",
        "      isim, numara = rastgele_kisi_sec()\n",
        "      print(f\"\\n\\tİsim: {isim}\\n\\tNumara: {numara}\")\n",
        "    \n",
        "    elif secim == \"6\":\n",
        "      kisileri_goruntule()\n",
        "    \n",
        "    elif secim == \"q\":\n",
        "      break\n",
        "    \n",
        "    else: print(\"Geçersiz seçim yaptınız. Lütfen tekrar deneyiniz\")\n",
        "    print(menu)\n",
        "\n",
        "main()"
      ]
    }
  ],
  "metadata": {
    "colab": {
      "collapsed_sections": [],
      "name": "Module_3_Introduction_to_Python.ipynb",
      "provenance": []
    },
    "kernelspec": {
      "display_name": "Python 3",
      "language": "python",
      "name": "python3"
    },
    "language_info": {
      "codemirror_mode": {
        "name": "ipython",
        "version": 3
      },
      "file_extension": ".py",
      "mimetype": "text/x-python",
      "name": "python",
      "nbconvert_exporter": "python",
      "pygments_lexer": "ipython3",
      "version": "3.9.5"
    }
  },
  "nbformat": 4,
  "nbformat_minor": 0
}